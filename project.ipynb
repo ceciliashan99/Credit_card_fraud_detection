{
 "cells": [
  {
   "cell_type": "markdown",
   "metadata": {},
   "source": [
    "## Course Project\n",
    "\n",
    "**Instructions:** <br>\n",
    "a. In the course project, you will analyze a real-world dataset on credit card fraud detection. You will write a report on your data analysis using Jupyter Notebook. <br>\n",
    "b. For each step, make sure to explain what you are doing, annotate your results, and provide your interpretation. <br>\n",
    "c. When you finish, make sure to use `Kernel` -> `Restart and Run All` to restart the kernel and rerun the entire notebook to generate the desired outputs, before submitting your project report. <br>\n",
    "d. Upload your .ipynb file to Canvas for grading. <br>\n",
    "e. All questions related to the course project shall be posted in the Discussions section on Canvas. <br>\n",
    "<br>\n",
    "\n",
    "**Policy:** <br>\n",
    "The course project is worth 25 points, counting towards 25% of the course final score. <br>\n",
    "\n",
    "Late submission, empty submission or no submission receives 0 point. Please note that in order to pass the course, at least 30% of the total score for the project must be obtained. In case of special circumstances, email the instructor directly ahead of time. "
   ]
  },
  {
   "cell_type": "markdown",
   "metadata": {},
   "source": [
    "### Credit Card Fraud Detection\n",
    "You can download the csv files from the project folder on Canvas.  <br>\n",
    "\n",
    "#### Context\n",
    "Credit card companies aim to recognize fraudulent credit card transactions so that customers are not charged for items that they did not purchase.\n",
    "\n",
    "#### Content\n",
    "The dataset contains transactions made by credit cards in September 2013 by european cardholders.\n",
    "Transactions occurred in two days, where we have 492 frauds out of 284,807 transactions. The dataset is highly unbalanced, as the positive class (frauds) account for 0.172% of all transactions. <br>\n",
    "\n",
    "It contains numerical input variables V1-V28 which are the result of a Principal Component Analysis (PCA) transformation, as original features are not provided due to confidentiality issues. Features that have not been transformed with PCA are 'Time' and 'Amount'. 'Time' contains the seconds elapsed between each transaction and the first transaction in the dataset. 'Amount' denotes the transaction Amount. 'Class' is the response variable (labelled outcome) and it takes value 1 in case of fraud and 0 otherwise.  <br>"
   ]
  },
  {
   "cell_type": "markdown",
   "metadata": {},
   "source": [
    "### Module 1: Data Exploration\n",
    "Load `creditcard_train.csv` and explore the dataset. How do the data look like? Are there any missing values? What do you do with missing values, i.e. removal, imputation, etc.?<br>\n",
    "Are there any outliers? What do you do with outliers, i.e. drop them, explore the effects of outliers on models, etc.? <br>\n",
    "Record your analysis procedures. For example, 20 observations are removed due to missingness, and 3,000 observations remain for further analysis. <br>\n",
    "\n",
    "Hint: for removal of extreme outliers, consider: Q1=df.quantile(0.25); Q3=df.quantile(0.75); IQR=Q3-Q1; <br>\n",
    "Remove samples that are smaller than Q1 - 2.5 * IQR or larger than Q3 + 2.5 * IQR."
   ]
  },
  {
   "cell_type": "code",
   "execution_count": 1,
   "metadata": {},
   "outputs": [],
   "source": [
    "import numpy as np\n",
    "import pandas as pd\n",
    "import matplotlib.pyplot as plt\n",
    "import seaborn as sns\n",
    "import matplotlib.gridspec as gridspec\n",
    "from sklearn.decomposition import PCA\n",
    "from sklearn.metrics import confusion_matrix\n",
    "from sklearn.metrics import roc_curve, auc\n",
    "from sklearn.metrics import classification_report\n",
    "from sklearn import metrics\n",
    "from sklearn.model_selection import GridSearchCV"
   ]
  },
  {
   "cell_type": "code",
   "execution_count": 2,
   "metadata": {},
   "outputs": [],
   "source": [
    "data = pd.read_csv('creditcard_train.csv') # load the data set "
   ]
  },
  {
   "cell_type": "code",
   "execution_count": 3,
   "metadata": {},
   "outputs": [
    {
     "data": {
      "text/html": [
       "<div>\n",
       "<style scoped>\n",
       "    .dataframe tbody tr th:only-of-type {\n",
       "        vertical-align: middle;\n",
       "    }\n",
       "\n",
       "    .dataframe tbody tr th {\n",
       "        vertical-align: top;\n",
       "    }\n",
       "\n",
       "    .dataframe thead th {\n",
       "        text-align: right;\n",
       "    }\n",
       "</style>\n",
       "<table border=\"1\" class=\"dataframe\">\n",
       "  <thead>\n",
       "    <tr style=\"text-align: right;\">\n",
       "      <th></th>\n",
       "      <th>Time</th>\n",
       "      <th>V1</th>\n",
       "      <th>V2</th>\n",
       "      <th>V3</th>\n",
       "      <th>V4</th>\n",
       "      <th>V5</th>\n",
       "      <th>V6</th>\n",
       "      <th>V7</th>\n",
       "      <th>V8</th>\n",
       "      <th>V9</th>\n",
       "      <th>...</th>\n",
       "      <th>V21</th>\n",
       "      <th>V22</th>\n",
       "      <th>V23</th>\n",
       "      <th>V24</th>\n",
       "      <th>V25</th>\n",
       "      <th>V26</th>\n",
       "      <th>V27</th>\n",
       "      <th>V28</th>\n",
       "      <th>Amount</th>\n",
       "      <th>Class</th>\n",
       "    </tr>\n",
       "  </thead>\n",
       "  <tbody>\n",
       "    <tr>\n",
       "      <th>0</th>\n",
       "      <td>0.0</td>\n",
       "      <td>-1.359807</td>\n",
       "      <td>-0.072781</td>\n",
       "      <td>2.536347</td>\n",
       "      <td>1.378155</td>\n",
       "      <td>-0.338321</td>\n",
       "      <td>0.462388</td>\n",
       "      <td>0.239599</td>\n",
       "      <td>0.098698</td>\n",
       "      <td>0.363787</td>\n",
       "      <td>...</td>\n",
       "      <td>-0.018307</td>\n",
       "      <td>0.277838</td>\n",
       "      <td>-0.110474</td>\n",
       "      <td>0.066928</td>\n",
       "      <td>0.128539</td>\n",
       "      <td>-0.189115</td>\n",
       "      <td>0.133558</td>\n",
       "      <td>-0.021053</td>\n",
       "      <td>149.62</td>\n",
       "      <td>0</td>\n",
       "    </tr>\n",
       "    <tr>\n",
       "      <th>1</th>\n",
       "      <td>0.0</td>\n",
       "      <td>1.191857</td>\n",
       "      <td>0.266151</td>\n",
       "      <td>0.166480</td>\n",
       "      <td>0.448154</td>\n",
       "      <td>0.060018</td>\n",
       "      <td>-0.082361</td>\n",
       "      <td>-0.078803</td>\n",
       "      <td>0.085102</td>\n",
       "      <td>-0.255425</td>\n",
       "      <td>...</td>\n",
       "      <td>-0.225775</td>\n",
       "      <td>-0.638672</td>\n",
       "      <td>0.101288</td>\n",
       "      <td>-0.339846</td>\n",
       "      <td>0.167170</td>\n",
       "      <td>0.125895</td>\n",
       "      <td>-0.008983</td>\n",
       "      <td>0.014724</td>\n",
       "      <td>2.69</td>\n",
       "      <td>0</td>\n",
       "    </tr>\n",
       "    <tr>\n",
       "      <th>2</th>\n",
       "      <td>1.0</td>\n",
       "      <td>-1.358354</td>\n",
       "      <td>-1.340163</td>\n",
       "      <td>1.773209</td>\n",
       "      <td>0.379780</td>\n",
       "      <td>-0.503198</td>\n",
       "      <td>1.800499</td>\n",
       "      <td>0.791461</td>\n",
       "      <td>0.247676</td>\n",
       "      <td>-1.514654</td>\n",
       "      <td>...</td>\n",
       "      <td>0.247998</td>\n",
       "      <td>0.771679</td>\n",
       "      <td>0.909412</td>\n",
       "      <td>-0.689281</td>\n",
       "      <td>-0.327642</td>\n",
       "      <td>-0.139097</td>\n",
       "      <td>-0.055353</td>\n",
       "      <td>-0.059752</td>\n",
       "      <td>378.66</td>\n",
       "      <td>0</td>\n",
       "    </tr>\n",
       "    <tr>\n",
       "      <th>3</th>\n",
       "      <td>1.0</td>\n",
       "      <td>-0.966272</td>\n",
       "      <td>-0.185226</td>\n",
       "      <td>1.792993</td>\n",
       "      <td>-0.863291</td>\n",
       "      <td>-0.010309</td>\n",
       "      <td>1.247203</td>\n",
       "      <td>0.237609</td>\n",
       "      <td>0.377436</td>\n",
       "      <td>-1.387024</td>\n",
       "      <td>...</td>\n",
       "      <td>-0.108300</td>\n",
       "      <td>0.005274</td>\n",
       "      <td>-0.190321</td>\n",
       "      <td>-1.175575</td>\n",
       "      <td>0.647376</td>\n",
       "      <td>-0.221929</td>\n",
       "      <td>0.062723</td>\n",
       "      <td>0.061458</td>\n",
       "      <td>123.50</td>\n",
       "      <td>0</td>\n",
       "    </tr>\n",
       "    <tr>\n",
       "      <th>4</th>\n",
       "      <td>2.0</td>\n",
       "      <td>-1.158233</td>\n",
       "      <td>0.877737</td>\n",
       "      <td>1.548718</td>\n",
       "      <td>0.403034</td>\n",
       "      <td>-0.407193</td>\n",
       "      <td>0.095921</td>\n",
       "      <td>0.592941</td>\n",
       "      <td>-0.270533</td>\n",
       "      <td>0.817739</td>\n",
       "      <td>...</td>\n",
       "      <td>-0.009431</td>\n",
       "      <td>0.798278</td>\n",
       "      <td>-0.137458</td>\n",
       "      <td>0.141267</td>\n",
       "      <td>-0.206010</td>\n",
       "      <td>0.502292</td>\n",
       "      <td>0.219422</td>\n",
       "      <td>0.215153</td>\n",
       "      <td>69.99</td>\n",
       "      <td>0</td>\n",
       "    </tr>\n",
       "  </tbody>\n",
       "</table>\n",
       "<p>5 rows × 31 columns</p>\n",
       "</div>"
      ],
      "text/plain": [
       "   Time        V1        V2        V3        V4        V5        V6        V7  \\\n",
       "0   0.0 -1.359807 -0.072781  2.536347  1.378155 -0.338321  0.462388  0.239599   \n",
       "1   0.0  1.191857  0.266151  0.166480  0.448154  0.060018 -0.082361 -0.078803   \n",
       "2   1.0 -1.358354 -1.340163  1.773209  0.379780 -0.503198  1.800499  0.791461   \n",
       "3   1.0 -0.966272 -0.185226  1.792993 -0.863291 -0.010309  1.247203  0.237609   \n",
       "4   2.0 -1.158233  0.877737  1.548718  0.403034 -0.407193  0.095921  0.592941   \n",
       "\n",
       "         V8        V9  ...       V21       V22       V23       V24       V25  \\\n",
       "0  0.098698  0.363787  ... -0.018307  0.277838 -0.110474  0.066928  0.128539   \n",
       "1  0.085102 -0.255425  ... -0.225775 -0.638672  0.101288 -0.339846  0.167170   \n",
       "2  0.247676 -1.514654  ...  0.247998  0.771679  0.909412 -0.689281 -0.327642   \n",
       "3  0.377436 -1.387024  ... -0.108300  0.005274 -0.190321 -1.175575  0.647376   \n",
       "4 -0.270533  0.817739  ... -0.009431  0.798278 -0.137458  0.141267 -0.206010   \n",
       "\n",
       "        V26       V27       V28  Amount  Class  \n",
       "0 -0.189115  0.133558 -0.021053  149.62      0  \n",
       "1  0.125895 -0.008983  0.014724    2.69      0  \n",
       "2 -0.139097 -0.055353 -0.059752  378.66      0  \n",
       "3 -0.221929  0.062723  0.061458  123.50      0  \n",
       "4  0.502292  0.219422  0.215153   69.99      0  \n",
       "\n",
       "[5 rows x 31 columns]"
      ]
     },
     "execution_count": 3,
     "metadata": {},
     "output_type": "execute_result"
    }
   ],
   "source": [
    "data.head() "
   ]
  },
  {
   "cell_type": "code",
   "execution_count": 4,
   "metadata": {},
   "outputs": [
    {
     "name": "stdout",
     "output_type": "stream",
     "text": [
      "<class 'pandas.core.frame.DataFrame'>\n",
      "RangeIndex: 284657 entries, 0 to 284656\n",
      "Data columns (total 31 columns):\n",
      " #   Column  Non-Null Count   Dtype  \n",
      "---  ------  --------------   -----  \n",
      " 0   Time    284657 non-null  float64\n",
      " 1   V1      284657 non-null  float64\n",
      " 2   V2      284657 non-null  float64\n",
      " 3   V3      284657 non-null  float64\n",
      " 4   V4      284657 non-null  float64\n",
      " 5   V5      284657 non-null  float64\n",
      " 6   V6      284657 non-null  float64\n",
      " 7   V7      284657 non-null  float64\n",
      " 8   V8      284657 non-null  float64\n",
      " 9   V9      284657 non-null  float64\n",
      " 10  V10     284657 non-null  float64\n",
      " 11  V11     284657 non-null  float64\n",
      " 12  V12     284657 non-null  float64\n",
      " 13  V13     284657 non-null  float64\n",
      " 14  V14     284657 non-null  float64\n",
      " 15  V15     284657 non-null  float64\n",
      " 16  V16     284657 non-null  float64\n",
      " 17  V17     284657 non-null  float64\n",
      " 18  V18     284657 non-null  float64\n",
      " 19  V19     284657 non-null  float64\n",
      " 20  V20     284657 non-null  float64\n",
      " 21  V21     284657 non-null  float64\n",
      " 22  V22     284379 non-null  float64\n",
      " 23  V23     284137 non-null  float64\n",
      " 24  V24     284657 non-null  float64\n",
      " 25  V25     284657 non-null  float64\n",
      " 26  V26     284657 non-null  float64\n",
      " 27  V27     284657 non-null  float64\n",
      " 28  V28     284657 non-null  float64\n",
      " 29  Amount  284657 non-null  float64\n",
      " 30  Class   284657 non-null  int64  \n",
      "dtypes: float64(30), int64(1)\n",
      "memory usage: 67.3 MB\n"
     ]
    }
   ],
   "source": [
    "data.info()"
   ]
  },
  {
   "cell_type": "code",
   "execution_count": 5,
   "metadata": {},
   "outputs": [],
   "source": [
    "# Each row is an transaction record. There are totally 284657 records.\n",
    "# Columns represent 31 features of the transactions, including time, result of a Principal Component Analysis, amount, and class. "
   ]
  },
  {
   "cell_type": "code",
   "execution_count": 6,
   "metadata": {},
   "outputs": [
    {
     "data": {
      "text/plain": [
       "Time      0.000000\n",
       "V1        0.000000\n",
       "V2        0.000000\n",
       "V3        0.000000\n",
       "V4        0.000000\n",
       "V5        0.000000\n",
       "V6        0.000000\n",
       "V7        0.000000\n",
       "V8        0.000000\n",
       "V9        0.000000\n",
       "V10       0.000000\n",
       "V11       0.000000\n",
       "V12       0.000000\n",
       "V13       0.000000\n",
       "V14       0.000000\n",
       "V15       0.000000\n",
       "V16       0.000000\n",
       "V17       0.000000\n",
       "V18       0.000000\n",
       "V19       0.000000\n",
       "V20       0.000000\n",
       "V21       0.000000\n",
       "V22       0.000977\n",
       "V23       0.001827\n",
       "V24       0.000000\n",
       "V25       0.000000\n",
       "V26       0.000000\n",
       "V27       0.000000\n",
       "V28       0.000000\n",
       "Amount    0.000000\n",
       "Class     0.000000\n",
       "dtype: float64"
      ]
     },
     "execution_count": 6,
     "metadata": {},
     "output_type": "execute_result"
    }
   ],
   "source": [
    "data.isnull().sum() / data.shape[0]"
   ]
  },
  {
   "cell_type": "code",
   "execution_count": 7,
   "metadata": {},
   "outputs": [],
   "source": [
    "# The missing values are in V22 & V23.\n",
    "# The missing values are results of a Principal Component Analysis (PCA) transformation, which are hard to deal with due to confidentiality issues\n",
    "# and the missing rate is relatively low.\n",
    "# I would remove the missing values. "
   ]
  },
  {
   "cell_type": "code",
   "execution_count": 8,
   "metadata": {},
   "outputs": [],
   "source": [
    "data = data.dropna()"
   ]
  },
  {
   "cell_type": "code",
   "execution_count": 9,
   "metadata": {},
   "outputs": [],
   "source": [
    "data.index = range(data.shape[0])"
   ]
  },
  {
   "cell_type": "code",
   "execution_count": 10,
   "metadata": {},
   "outputs": [
    {
     "data": {
      "text/plain": [
       "(283859, 31)"
      ]
     },
     "execution_count": 10,
     "metadata": {},
     "output_type": "execute_result"
    }
   ],
   "source": [
    "data.shape"
   ]
  },
  {
   "cell_type": "code",
   "execution_count": 11,
   "metadata": {},
   "outputs": [],
   "source": [
    "# 798 observations are removed due to missingness, and 283859 observations remain for further analysis."
   ]
  },
  {
   "cell_type": "code",
   "execution_count": 12,
   "metadata": {},
   "outputs": [
    {
     "data": {
      "text/plain": [
       "Time          0\n",
       "V1         2887\n",
       "V2         6258\n",
       "V3         1122\n",
       "V4         1247\n",
       "V5         3433\n",
       "V6        12201\n",
       "V7         4071\n",
       "V8        13610\n",
       "V9         1572\n",
       "V10        4082\n",
       "V11         181\n",
       "V12        3510\n",
       "V13          13\n",
       "V14        3843\n",
       "V15          67\n",
       "V16        1141\n",
       "V17        2300\n",
       "V18         494\n",
       "V19        1959\n",
       "V20       16408\n",
       "V21        8771\n",
       "V22         349\n",
       "V23       10131\n",
       "V24         245\n",
       "V25        1040\n",
       "V26         608\n",
       "V27       20850\n",
       "V28       16038\n",
       "Amount    21995\n",
       "Class       442\n",
       "dtype: int64"
      ]
     },
     "execution_count": 12,
     "metadata": {},
     "output_type": "execute_result"
    }
   ],
   "source": [
    "Q1 = data.quantile(0.25)\n",
    "Q3 = data.quantile(0.75)\n",
    "IQR = Q3 - Q1\n",
    "(data < Q1 - 2.5 * IQR).sum() + (data > Q3 + 2.5 * IQR).sum()"
   ]
  },
  {
   "cell_type": "code",
   "execution_count": 13,
   "metadata": {},
   "outputs": [],
   "source": [
    "# The amount of outliers is shown above. \n",
    "# Since class for frauds is 1, and the amount of frauds is quite small compared with normal trasctions, they are considered as outliers. \n",
    "# Thus, I think we should not remove outliers for Class."
   ]
  },
  {
   "cell_type": "code",
   "execution_count": 14,
   "metadata": {},
   "outputs": [],
   "source": [
    "data_removed = data[(data > Q1 - 2.5 * IQR) & (data < Q3 + 2.5 * IQR)]\n",
    "data_removed['Class'] = data['Class']\n",
    "data_removed = data_removed.dropna()"
   ]
  },
  {
   "cell_type": "code",
   "execution_count": 15,
   "metadata": {},
   "outputs": [
    {
     "data": {
      "text/plain": [
       "(212553, 31)"
      ]
     },
     "execution_count": 15,
     "metadata": {},
     "output_type": "execute_result"
    }
   ],
   "source": [
    "data_removed.shape"
   ]
  },
  {
   "cell_type": "code",
   "execution_count": 16,
   "metadata": {},
   "outputs": [],
   "source": [
    "# 71306 observations are removed due to outliers, and 212553 observations remain for further analysis."
   ]
  },
  {
   "cell_type": "markdown",
   "metadata": {},
   "source": [
    "### Module 2: Data Visualization\n",
    "What are the distributions of variables? Are the variables distributed differently in the Fraud group and in the Normal group? Use tables and/or figures to visualize your exploration and findings. Present no more than 5 figures/tables that you think are important, and you may state in your findings that other variables a, b, c have similar patterns."
   ]
  },
  {
   "cell_type": "code",
   "execution_count": 17,
   "metadata": {},
   "outputs": [
    {
     "data": {
      "image/png": "[encoded data removed]",
      "text/plain": [
       "<Figure size 1152x288 with 2 Axes>"
      ]
     },
     "metadata": {
      "needs_background": "light"
     },
     "output_type": "display_data"
    }
   ],
   "source": [
    "f, (ax1, ax2) = plt.subplots(2, 1, sharex=True, figsize=(16,4))\n",
    "\n",
    "bins = 30\n",
    "\n",
    "ax1.hist(data[\"Amount\"][data[\"Class\"]== 1], bins = bins)\n",
    "ax1.set_title('fraud')\n",
    "\n",
    "ax2.hist(data[\"Amount\"][data[\"Class\"] == 0], bins = bins)\n",
    "ax2.set_title('normal')\n",
    "\n",
    "plt.xlabel('Amount ($)')\n",
    "plt.ylabel('Number of Transactions')\n",
    "plt.yscale('log') # due to the difference in the amount of transcations between fraud cases and normal cases\n",
    "plt.show()"
   ]
  },
  {
   "cell_type": "code",
   "execution_count": 18,
   "metadata": {},
   "outputs": [],
   "source": [
    "# The graph shows the transaction amount seperately for fraud cases and normal cases.\n",
    "# We can conclude the transaction amount of fraud cases is smller than the transaction amount of normal cases"
   ]
  },
  {
   "cell_type": "code",
   "execution_count": 19,
   "metadata": {},
   "outputs": [
    {
     "data": {
      "image/png": "[encoded data removed]",
      "text/plain": [
       "<Figure size 432x288 with 2 Axes>"
      ]
     },
     "metadata": {
      "needs_background": "light"
     },
     "output_type": "display_data"
    }
   ],
   "source": [
    "plt.subplot(2, 1, 1)\n",
    "plt.hist(data.Time[data.Class == 1], bins=100)\n",
    "plt.title('fraud')\n",
    "plt.ylabel('transaction numbers')\n",
    " \n",
    "plt.subplot(2, 1, 2)\n",
    "plt.hist(data.Time[data.Class == 0], bins=100)\n",
    "plt.title('normal')\n",
    "plt.subplots_adjust(wspace =0, hspace =0.5) # adjust the spacing "
   ]
  },
  {
   "cell_type": "code",
   "execution_count": 20,
   "metadata": {},
   "outputs": [],
   "source": [
    "# The graph shows the time seperately for fraud cases and normal cases.\n",
    "# We can conclude the time for fraud cases are more random, and there are two peaks for normal cases.\n",
    "# The randomness of time for fraud cases may due to the relatively small sample size."
   ]
  },
  {
   "cell_type": "code",
   "execution_count": 21,
   "metadata": {},
   "outputs": [
    {
     "data": {
      "image/png": "[encoded data removed]",
      "text/plain": [
       "<Figure size 720x5760 with 2 Axes>"
      ]
     },
     "metadata": {
      "needs_background": "light"
     },
     "output_type": "display_data"
    }
   ],
   "source": [
    "plt.figure(figsize=(10,80))\n",
    "gs = gridspec.GridSpec(29, 1)\n",
    "dfv = data.iloc[:,1:29]\n",
    "\n",
    "for i, cn in enumerate(['V1', 'V13']):\n",
    "    ax = plt.subplot(gs[i])\n",
    "    sns.distplot(dfv[cn][data.Class == 1], bins=50, color='blue')\n",
    "    sns.distplot(dfv[cn][data.Class == 0], bins=50, color='green')\n",
    "    ax.set_title(str(cn))\n",
    "plt.subplots_adjust(wspace =0, hspace =0.5)"
   ]
  },
  {
   "cell_type": "code",
   "execution_count": 22,
   "metadata": {},
   "outputs": [],
   "source": [
    "# The graph shows the some results of a Principal Component Analysis (PCA) transformation seperately for fraud cases and normal cases.\n",
    "# The fraud cases is blue, and the normal cases is green. \n",
    "# Fraud cases and normal cases have similar distributions for V8, V13, V15, V20, V21, V22, V23, V24, V25, V26, V27 and V28, and different distributions for other results of a Principal Component Analysis (PCA) transformation. "
   ]
  },
  {
   "cell_type": "markdown",
   "metadata": {},
   "source": [
    "### Module 3: Dimension Reduction\n",
    "Apply unsupervised learning methods to achieve dimension reduction. Visualize and interpret the results. Any dimension reduction algorithms can be used."
   ]
  },
  {
   "cell_type": "code",
   "execution_count": 23,
   "metadata": {},
   "outputs": [
    {
     "data": {
      "image/png": "[encoded data removed]",
      "text/plain": [
       "<Figure size 432x288 with 1 Axes>"
      ]
     },
     "metadata": {
      "needs_background": "light"
     },
     "output_type": "display_data"
    }
   ],
   "source": [
    "df = data_removed.iloc[:, 0:30] #features\n",
    "target = data_removed.iloc[:, 30]\n",
    "pca = PCA().fit(df)\n",
    "plt.plot(np.cumsum(pca.explained_variance_ratio_))\n",
    "plt.xlabel('number of components')\n",
    "plt.ylabel('cumulative explained variance');"
   ]
  },
  {
   "cell_type": "code",
   "execution_count": 24,
   "metadata": {},
   "outputs": [],
   "source": [
    "# From the graph, we can see about 2 components describe close to 100% of the variance"
   ]
  },
  {
   "cell_type": "code",
   "execution_count": 25,
   "metadata": {},
   "outputs": [],
   "source": [
    "pca = PCA(n_components=2)\n",
    "projected = pca.fit_transform(df)"
   ]
  },
  {
   "cell_type": "code",
   "execution_count": 26,
   "metadata": {},
   "outputs": [
    {
     "data": {
      "image/png": "[encoded data removed]",
      "text/plain": [
       "<Figure size 432x288 with 2 Axes>"
      ]
     },
     "metadata": {
      "needs_background": "light"
     },
     "output_type": "display_data"
    }
   ],
   "source": [
    "plt.scatter(projected[:, 0], projected[:, 1],\n",
    "            c=target, edgecolor='none', alpha=0.5,\n",
    "            cmap=plt.get_cmap('Set2'))\n",
    "plt.xlabel('component 1')\n",
    "plt.ylabel('component 2')\n",
    "plt.colorbar();"
   ]
  },
  {
   "cell_type": "code",
   "execution_count": 27,
   "metadata": {},
   "outputs": [],
   "source": [
    "# The stretch and rotation in 30-dimensional space allow us to present the features in two dimensions, and it is in an unsupervised manner without reference to the labels."
   ]
  },
  {
   "cell_type": "markdown",
   "metadata": {},
   "source": [
    "### Module 4: Classification\n",
    "Choose three classification methods and build classification models, using 5-fold cross-validation. <br>\n",
    "\n",
    "Further, load `creditcard_test.csv` and use it as the test dataset to evaluate your models and compare their performance. Consider visualizing the results, and evaluate the results using metrics such as the overall accuracy and the confusion matrix. <br>\n",
    "\n",
    "Hint: because the dataset is highly unbalanced, consider undersampling, i.e. randomly select N normal observations of the same size as the N fraud observations, and use N+N=2N samples for model fitting and training. "
   ]
  },
  {
   "cell_type": "code",
   "execution_count": 28,
   "metadata": {},
   "outputs": [],
   "source": [
    "###pick 3 classification methods, and methods not in the below list can also be used; you can also pick more than three methods\n",
    "from sklearn.linear_model import LogisticRegression\n",
    "from sklearn.discriminant_analysis import LinearDiscriminantAnalysis\n",
    "from sklearn.discriminant_analysis import QuadraticDiscriminantAnalysis\n",
    "from sklearn.neighbors import KNeighborsClassifier\n",
    "from sklearn.tree import DecisionTreeClassifier\n",
    "from sklearn.svm import SVC\n",
    "from sklearn.ensemble import RandomForestClassifier, AdaBoostClassifier\n",
    "from sklearn.naive_bayes import GaussianNB\n",
    "from sklearn.gaussian_process import GaussianProcessClassifier\n",
    "from sklearn.gaussian_process.kernels import RBF"
   ]
  },
  {
   "cell_type": "code",
   "execution_count": 29,
   "metadata": {},
   "outputs": [],
   "source": [
    "test = pd.read_csv('creditcard_test.csv') #import test data set "
   ]
  },
  {
   "cell_type": "code",
   "execution_count": 30,
   "metadata": {},
   "outputs": [],
   "source": [
    "fraud_index = np.array(data[data.Class == 1].index)\n",
    "norm_index = np.array(data[data.Class == 0].index)\n",
    "random_norm_index = np.random.choice(norm_index,len(fraud_index),replace = False)\n",
    "under_sample_index = np.concatenate((fraud_index,random_norm_index),axis=0)\n",
    "under_sample = data.iloc[under_sample_index] #undersampling\n",
    "X_train_undersample = under_sample.iloc[:, 0:30]\n",
    "y_train_undersample = under_sample.iloc[:, 30]\n",
    "X_test_undersample = test.iloc[:, 0:30]\n",
    "y_test_undersample = test.iloc[:, 30]"
   ]
  },
  {
   "cell_type": "code",
   "execution_count": 31,
   "metadata": {},
   "outputs": [],
   "source": [
    "# Logistic Regression Model\n",
    "LR_params = {'C': [0.001, 0.0001]}\n",
    "grid_LR = GridSearchCV(estimator = LogisticRegression(), \n",
    "                  param_grid = LR_params, \n",
    "                  cv = 5) #5-fold cross-validation\n",
    "grid_LR.fit(X_train_undersample, y_train_undersample)\n",
    "LR = grid_LR.best_estimator_.fit(X_train_undersample, y_train_undersample)\n",
    "LR_pred = LR.predict(X_test_undersample)"
   ]
  },
  {
   "cell_type": "code",
   "execution_count": 32,
   "metadata": {},
   "outputs": [
    {
     "name": "stdout",
     "output_type": "stream",
     "text": [
      "              precision    recall  f1-score   support\n",
      "\n",
      "           0       0.92      0.99      0.95       100\n",
      "           1       0.98      0.82      0.89        50\n",
      "\n",
      "    accuracy                           0.93       150\n",
      "   macro avg       0.95      0.91      0.92       150\n",
      "weighted avg       0.94      0.93      0.93       150\n",
      "\n",
      "Accuracy score :  0.9333333333333333\n"
     ]
    }
   ],
   "source": [
    "# Scores of Logistic Regression Model\n",
    "print(classification_report(y_test_undersample,LR_pred))\n",
    "print('Accuracy score : ', LR.score(X_test_undersample, y_test_undersample))"
   ]
  },
  {
   "cell_type": "code",
   "execution_count": 33,
   "metadata": {},
   "outputs": [
    {
     "name": "stdout",
     "output_type": "stream",
     "text": [
      "Confusion matrix:  [[99  1]\n",
      " [ 9 41]]\n"
     ]
    },
    {
     "data": {
      "image/png": "[encoded data removed]",
      "text/plain": [
       "<Figure size 288x288 with 2 Axes>"
      ]
     },
     "metadata": {
      "needs_background": "light"
     },
     "output_type": "display_data"
    }
   ],
   "source": [
    "# Confusion matraix of Logistic Regression Model\n",
    "LRcm = confusion_matrix(y_test_undersample, LR_pred)\n",
    "print('Confusion matrix: ', LRcm)\n",
    "plt.matshow(LRcm)\n",
    "plt.title('LogisticRegression Confusion Matrix')\n",
    "plt.colorbar()\n",
    "plt.ylabel('True label')\n",
    "plt.xlabel('Predicted label')\n",
    "plt.show()"
   ]
  },
  {
   "cell_type": "code",
   "execution_count": 34,
   "metadata": {},
   "outputs": [
    {
     "data": {
      "text/plain": [
       "Text(0, 0.5, 'Recall')"
      ]
     },
     "execution_count": 34,
     "metadata": {},
     "output_type": "execute_result"
    },
    {
     "data": {
      "image/png": "[encoded data removed]",
      "text/plain": [
       "<Figure size 432x288 with 1 Axes>"
      ]
     },
     "metadata": {
      "needs_background": "light"
     },
     "output_type": "display_data"
    }
   ],
   "source": [
    "# ROC curve for Logistic Regression Model\n",
    "predictions = LR.predict_proba(X_test_undersample)\n",
    "FPrate, recall, thresholds = roc_curve(y_test_undersample, predictions[:, 1])\n",
    "roc_auc = auc(FPrate, recall)\n",
    "plt.title('Receiver Operating Characteristic')\n",
    "plt.plot(FPrate, recall, 'b', label = 'AUC = %0.2f' %roc_auc)\n",
    "plt.legend(loc = 'lower right')\n",
    "plt.plot([0,1],[0,1],'g--')\n",
    "plt.xlim([0.0,1.0])\n",
    "plt.ylim([0.0,1.0])\n",
    "plt.xlabel('Fall-out')\n",
    "plt.ylabel('Recall')"
   ]
  },
  {
   "cell_type": "code",
   "execution_count": 35,
   "metadata": {},
   "outputs": [],
   "source": [
    "# Decision Tree Classifier\n",
    "tree_params = {'max_depth': range(5, 30, 5),\n",
    "              'min_samples_split': range(2, 10, 2), \n",
    "              'min_samples_leaf': range(1, 6, 2)}\n",
    "grid_tree = GridSearchCV(DecisionTreeClassifier(), tree_params, cv=5)#5-fold cross-validation\n",
    "grid_tree.fit(X_train_undersample, y_train_undersample)\n",
    "tree = grid_tree.best_estimator_.fit(X_train_undersample, y_train_undersample)\n",
    "tree_pred = tree.predict(X_test_undersample)"
   ]
  },
  {
   "cell_type": "code",
   "execution_count": 36,
   "metadata": {},
   "outputs": [
    {
     "name": "stdout",
     "output_type": "stream",
     "text": [
      "              precision    recall  f1-score   support\n",
      "\n",
      "           0       0.98      0.92      0.95       100\n",
      "           1       0.86      0.96      0.91        50\n",
      "\n",
      "    accuracy                           0.93       150\n",
      "   macro avg       0.92      0.94      0.93       150\n",
      "weighted avg       0.94      0.93      0.93       150\n",
      "\n",
      "Accuracy:  0.9333333333333333\n"
     ]
    }
   ],
   "source": [
    "# Scores of Decision Tree Classifier\n",
    "print(classification_report(y_test_undersample, tree_pred))\n",
    "print('Accuracy: ', tree.score(X_test_undersample, y_test_undersample))"
   ]
  },
  {
   "cell_type": "code",
   "execution_count": 37,
   "metadata": {
    "scrolled": true
   },
   "outputs": [
    {
     "name": "stdout",
     "output_type": "stream",
     "text": [
      "Confusion matrix:  [[92  8]\n",
      " [ 2 48]]\n"
     ]
    },
    {
     "data": {
      "image/png": "[encoded data removed]",
      "text/plain": [
       "<Figure size 288x288 with 2 Axes>"
      ]
     },
     "metadata": {
      "needs_background": "light"
     },
     "output_type": "display_data"
    }
   ],
   "source": [
    "# Confusion matraix of Decision Tree\n",
    "LRcm = confusion_matrix(y_test_undersample, tree_pred)\n",
    "print('Confusion matrix: ', LRcm)\n",
    "plt.matshow(LRcm)\n",
    "plt.title('Decision Tree Confusion Matrix')\n",
    "plt.colorbar()\n",
    "plt.ylabel('True label')\n",
    "plt.xlabel('Predicted label')\n",
    "plt.show()"
   ]
  },
  {
   "cell_type": "code",
   "execution_count": 38,
   "metadata": {},
   "outputs": [
    {
     "data": {
      "text/plain": [
       "Text(0, 0.5, 'Recall')"
      ]
     },
     "execution_count": 38,
     "metadata": {},
     "output_type": "execute_result"
    },
    {
     "data": {
      "image/png": "[encoded data removed]",
      "text/plain": [
       "<Figure size 432x288 with 1 Axes>"
      ]
     },
     "metadata": {
      "needs_background": "light"
     },
     "output_type": "display_data"
    }
   ],
   "source": [
    "# ROC curve for Decision Tree\n",
    "predictions = tree.predict_proba(X_test_undersample)\n",
    "FPrate, recall, thresholds = roc_curve(y_test_undersample, predictions[:, 1])\n",
    "roc_auc = auc(FPrate, recall)\n",
    "plt.title('Receiver Operating Characteristic')\n",
    "plt.plot(FPrate, recall, 'b', label = 'AUC = %0.2f' %roc_auc)\n",
    "plt.legend(loc = 'lower right')\n",
    "plt.plot([0,1],[0,1],'g--')\n",
    "plt.xlim([0.0,1.0])\n",
    "plt.ylim([0.0,1.0])\n",
    "plt.xlabel('Fall-out')\n",
    "plt.ylabel('Recall')"
   ]
  },
  {
   "cell_type": "code",
   "execution_count": 39,
   "metadata": {},
   "outputs": [],
   "source": [
    "# Random Forest Classifier\n",
    "forest_params = {'max_depth':[5, 10], \n",
    "                'min_samples_leaf': [1, 5],\n",
    "                'n_estimators': range(80, 140, 20)}\n",
    "grid_forest = GridSearchCV(RandomForestClassifier(), forest_params, cv=5)#5-fold cross-validation\n",
    "grid_forest.fit(X_train_undersample, y_train_undersample)\n",
    "forest = grid_forest.best_estimator_.fit(X_train_undersample, y_train_undersample)\n",
    "forest_pred = tree.predict(X_test_undersample)"
   ]
  },
  {
   "cell_type": "code",
   "execution_count": 40,
   "metadata": {},
   "outputs": [
    {
     "name": "stdout",
     "output_type": "stream",
     "text": [
      "              precision    recall  f1-score   support\n",
      "\n",
      "           0       0.98      0.92      0.95       100\n",
      "           1       0.86      0.96      0.91        50\n",
      "\n",
      "    accuracy                           0.93       150\n",
      "   macro avg       0.92      0.94      0.93       150\n",
      "weighted avg       0.94      0.93      0.93       150\n",
      "\n",
      "Accuracy:  0.9733333333333334\n"
     ]
    }
   ],
   "source": [
    "# Scores of Random Forest Classifier\n",
    "print(classification_report(y_test_undersample, forest_pred))\n",
    "print('Accuracy: ', forest.score(X_test_undersample, y_test_undersample))"
   ]
  },
  {
   "cell_type": "code",
   "execution_count": 41,
   "metadata": {
    "scrolled": true
   },
   "outputs": [
    {
     "name": "stdout",
     "output_type": "stream",
     "text": [
      "Confusion matrix:  [[92  8]\n",
      " [ 2 48]]\n"
     ]
    },
    {
     "data": {
      "image/png": "[encoded data removed]",
      "text/plain": [
       "<Figure size 288x288 with 2 Axes>"
      ]
     },
     "metadata": {
      "needs_background": "light"
     },
     "output_type": "display_data"
    }
   ],
   "source": [
    "# Confusion matraix of Random Forest\n",
    "LRcm = confusion_matrix(y_test_undersample, forest_pred)\n",
    "print('Confusion matrix: ', LRcm)\n",
    "plt.matshow(LRcm)\n",
    "plt.title('Random Forest Confusion Matrix')\n",
    "plt.colorbar()\n",
    "plt.ylabel('True label')\n",
    "plt.xlabel('Predicted label')\n",
    "plt.show()"
   ]
  },
  {
   "cell_type": "code",
   "execution_count": 42,
   "metadata": {},
   "outputs": [
    {
     "data": {
      "text/plain": [
       "Text(0, 0.5, 'Recall')"
      ]
     },
     "execution_count": 42,
     "metadata": {},
     "output_type": "execute_result"
    },
    {
     "data": {
      "image/png": "[encoded data removed]",
      "text/plain": [
       "<Figure size 432x288 with 1 Axes>"
      ]
     },
     "metadata": {
      "needs_background": "light"
     },
     "output_type": "display_data"
    }
   ],
   "source": [
    "# ROC curve for Random Forest\n",
    "predictions = forest.predict_proba(X_test_undersample)\n",
    "FPrate, recall, thresholds = roc_curve(y_test_undersample, predictions[:, 1])\n",
    "roc_auc = auc(FPrate, recall)\n",
    "plt.title('Receiver Operating Characteristic')\n",
    "plt.plot(FPrate, recall, 'b', label = 'AUC = %0.2f' %roc_auc)\n",
    "plt.legend(loc = 'lower right')\n",
    "plt.plot([0,1],[0,1],'g--')\n",
    "plt.xlim([0.0,1.0])\n",
    "plt.ylim([0.0,1.0])\n",
    "plt.xlabel('Fall-out')\n",
    "plt.ylabel('Recall')"
   ]
  },
  {
   "cell_type": "markdown",
   "metadata": {},
   "source": [
    "### Module 5: Summary\n",
    "Summarize your findings and draw conclusions."
   ]
  },
  {
   "cell_type": "code",
   "execution_count": 43,
   "metadata": {},
   "outputs": [],
   "source": [
    "# 1.Around 8% of transaction data are outliers, showing the variance of data are quite big.\n",
    "# 2.Some features of fraud cases and normal cases are too similar, which may be the interference for models to work properly.\n",
    "# 3.The scores, including precision score, recall score and f1-score, of normal cases are higher that the scores of fraud cases for all models used above. It shows normal cases are easier to be detected properly.\n",
    "# 4.Undersampling fixs the problem of highly unbalanced data. As you can see, the scores, including precision score, recall score and f1-score, of fraud cases are all above 90% for three models. Undersampling enables the model to detect fraud cases properly.\n",
    "# 5.In general, Random Forest Classifier performs best among three models above. Its accuracy score is around 0.97, which is highest. The result of confusion matrix is as good as that of decision tree model. Its ROC curve is the best as well, as you can see from the graph above."
   ]
  }
 ],
 "metadata": {
  "kernelspec": {
   "display_name": "Python 3",
   "language": "python",
   "name": "python3"
  },
  "language_info": {
   "codemirror_mode": {
    "name": "ipython",
    "version": 3
   },
   "file_extension": ".py",
   "mimetype": "text/x-python",
   "name": "python",
   "nbconvert_exporter": "python",
   "pygments_lexer": "ipython3",
   "version": "3.7.6"
  },
  "toc": {
   "base_numbering": 1,
   "nav_menu": {},
   "number_sections": true,
   "sideBar": true,
   "skip_h1_title": false,
   "title_cell": "Table of Contents",
   "title_sidebar": "Contents",
   "toc_cell": false,
   "toc_position": {},
   "toc_section_display": true,
   "toc_window_display": false
  }
 },
 "nbformat": 4,
 "nbformat_minor": 4
}
